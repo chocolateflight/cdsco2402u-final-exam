{
 "cells": [
  {
   "cell_type": "markdown",
   "metadata": {},
   "source": []
  },
  {
   "cell_type": "code",
   "execution_count": 1,
   "metadata": {},
   "outputs": [],
   "source": [
    "# Imports\n",
    "import pandas as pd\n",
    "import csv\n",
    "from datetime import datetime"
   ]
  },
  {
   "cell_type": "code",
   "execution_count": null,
   "metadata": {},
   "outputs": [],
   "source": [
    "# Load Data\n",
    "case_archive = pd.read_csv('case_archive.csv')\n",
    "case_archive.head()"
   ]
  },
  {
   "cell_type": "code",
   "execution_count": null,
   "metadata": {},
   "outputs": [],
   "source": [
    "# ------------------------ Data Classes ------------------------\n",
    "\n",
    "class Person:\n",
    "  def __init__(self, name):\n",
    "    self.name = name\n",
    "    \n",
    "  def get_role(self):\n",
    "    return \"Person\"\n",
    "\n",
    "class Suspect(Person):\n",
    "  def __init__(self, name):\n",
    "    super().__init__(name)\n",
    "    \n",
    "  def get_role(self):\n",
    "    return \"Suspect\"\n",
    "\n",
    "class Victim(Person):\n",
    "  def __init__(self, name):\n",
    "    super().__init__(name)\n",
    "    \n",
    "  def get_role(self):\n",
    "    return \"Victim\"\n",
    "\n",
    "class Case:\n",
    "  def __init__(self, case_id, date, suspect, victim, severity, status):\n",
    "    self.case_id = case_id\n",
    "    self.date = date\n",
    "    self.suspect = suspect\n",
    "    self.victim = victim\n",
    "    self.severity = severity\n",
    "    self.status = status\n",
    "    \n",
    "  def __str__(self):\n",
    "    return f\"Case ID: {self.case_id}, Date: {self.date}, Suspect: {self.suspect}, Victim: {self.victim}, Severity: {self.severity}, Status: {self.status}\""
   ]
  },
  {
   "cell_type": "code",
   "execution_count": null,
   "metadata": {},
   "outputs": [],
   "source": [
    "# ------------------------ Utility Classes ------------------------\n",
    "\n",
    "class SortingAlgoithm:\n",
    "  pass\n",
    "\n",
    "class SearchAlgorithm:\n",
    "  pass\n",
    "\n"
   ]
  },
  {
   "cell_type": "code",
   "execution_count": null,
   "metadata": {},
   "outputs": [],
   "source": [
    "# ------------------------ Case Archive Classes ------------------------\n",
    "\n",
    "class CaseArchive:\n",
    "  pass\n",
    "\n"
   ]
  },
  {
   "cell_type": "code",
   "execution_count": null,
   "metadata": {},
   "outputs": [],
   "source": [
    "# ------------------------ Interface Functions ------------------------\n",
    "\n",
    "# ...\n",
    "\n"
   ]
  },
  {
   "cell_type": "code",
   "execution_count": null,
   "metadata": {},
   "outputs": [],
   "source": [
    "# ------------------------ Run Program ------------------------\n",
    "\n",
    "# ..."
   ]
  }
 ],
 "metadata": {
  "kernelspec": {
   "display_name": "Python 3",
   "language": "python",
   "name": "python3"
  },
  "language_info": {
   "codemirror_mode": {
    "name": "ipython",
    "version": 3
   },
   "file_extension": ".py",
   "mimetype": "text/x-python",
   "name": "python",
   "nbconvert_exporter": "python",
   "pygments_lexer": "ipython3",
   "version": "3.12.5"
  }
 },
 "nbformat": 4,
 "nbformat_minor": 2
}
