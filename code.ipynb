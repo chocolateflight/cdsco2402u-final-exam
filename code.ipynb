{
 "cells": [
  {
   "cell_type": "markdown",
   "metadata": {},
   "source": []
  },
  {
   "cell_type": "code",
   "execution_count": 1,
   "metadata": {},
   "outputs": [],
   "source": [
    "# Imports\n",
    "import pandas as pd"
   ]
  },
  {
   "cell_type": "code",
   "execution_count": null,
   "metadata": {},
   "outputs": [],
   "source": [
    "# Load Data\n",
    "case_archive = pd.read_csv('case_archive.csv')\n",
    "case_archive.head()"
   ]
  },
  {
   "cell_type": "code",
   "execution_count": null,
   "metadata": {},
   "outputs": [],
   "source": [
    "# ------------------------ Data Classes ------------------------\n",
    "\n",
    "class Person:\n",
    "  pass\n",
    "\n",
    "class Suspect(Person):\n",
    "  pass\n",
    "\n",
    "class Victim(Person):\n",
    "  pass\n",
    "\n",
    "class Case:\n",
    "  pass\n",
    "\n",
    "# ------------------------ Utility Classes ------------------------\n",
    "\n",
    "class SortingAlgoithm:\n",
    "  pass\n",
    "\n",
    "class SearchAlgorithm:\n",
    "  pass\n",
    "\n",
    "# ------------------------ Case Archive Classes ------------------------\n",
    "\n",
    "class CaseArchive:\n",
    "  pass\n",
    "\n",
    "# ------------------------ Interface Functions ------------------------\n",
    "\n",
    "# ...\n",
    "\n",
    "# ------------------------ Run Program ------------------------\n",
    "\n",
    "# ..."
   ]
  }
 ],
 "metadata": {
  "kernelspec": {
   "display_name": "Python 3",
   "language": "python",
   "name": "python3"
  },
  "language_info": {
   "codemirror_mode": {
    "name": "ipython",
    "version": 3
   },
   "file_extension": ".py",
   "mimetype": "text/x-python",
   "name": "python",
   "nbconvert_exporter": "python",
   "pygments_lexer": "ipython3",
   "version": "3.12.5"
  }
 },
 "nbformat": 4,
 "nbformat_minor": 2
}
